{
 "cells": [
  {
   "cell_type": "markdown",
   "id": "769e169c-5d1b-4aba-b0cb-801ea38c08ca",
   "metadata": {},
   "source": [
    "# Cálculo da Aceleração (speedup) e Eficiência\n",
    "\n",
    "---\n",
    "\n",
    "## Introdução\n",
    "\n",
    "Este caderno experimental tem por objetivo calcularmos a aceleração (*speedup*) e eficiência de uma operação quando esta pode ser calculada em paralelo. \n",
    "\n",
    "Utilizaremos como exemplo uma operação que consiste no processo de otimização de modelos de aprendizado de máquina. Inicialmente carregamos o conjunto de dados `Breast Cancer`, da biblioteca scikit learn, e em seguida, dividimos esses dados em conjuntos distintos para treinamento e teste. Definimos os hiperparâmetros, como o parâmetro de regularização e o tipo de kernel, juntamente com suas possíveis variações em um grid (param_grid). Criamos um classificador SVM (SVC) e utilizamos o objeto GridSearchCV para explorar sistematicamente as combinações de hiperparâmetros, empregando a validação cruzada para avaliar o desempenho. \n",
    "\n",
    "Ao término, recuperamos os hiperparâmetros ótimos e o melhor estimador com base nos resultados do grid search. \n",
    "\n",
    "Com esses melhores parâmetros em mãos, procedemos à avaliação do modelo no conjunto de teste. O GridSearchCV automatiza a busca exaustiva de hiperparâmetros e oferece o conjunto ideal para ajustar o modelo, aprimorando, assim, seu desempenho.\n",
    "\n",
    "Ao empregar o GridSearchCV em um ambiente com múltiplos threads, é possível avaliar o speedup e a eficiência do processo de busca de hiperparâmetros. O speedup representa a aceleração obtida com o paralelismo, medindo a redução no tempo de execução à medida que mais threads são usados. A eficiência, por outro lado, indica o quão bem o processamento paralelo está sendo aproveitado, considerando a relação entre o número de threads e o speedup alcançado. Ao monitorar essas métricas, os profissionais de dados podem determinar o impacto da paralelização na eficiência do GridSearchCV, garantindo que os recursos computacionais sejam utilizados de forma otimizada e resultem em economia de tempo significativa\n",
    "\n",
    "## Escopo\n",
    "\n",
    "Este trabalho se concentra na avaliação do impacto do processamento paralelo, excluindo detalhes específicos sobre o aprendizado de máquina. A pesquisa explora o uso de múltiplos threads, para analisar como elas podem aprimorar a aceleração e eficiência da operação."
   ]
  },
  {
   "cell_type": "markdown",
   "id": "cdd434bd-bedd-4c88-809d-afd3f6242895",
   "metadata": {},
   "source": [
    "## Carga das bibliotecas"
   ]
  },
  {
   "cell_type": "code",
   "execution_count": 1,
   "id": "34329328-3791-495a-923d-910b7f610b9a",
   "metadata": {
    "scrolled": true,
    "tags": []
   },
   "outputs": [],
   "source": [
    "from sklearn.datasets import load_breast_cancer\n",
    "from sklearn.model_selection import train_test_split\n",
    "from sklearn.svm import SVC\n",
    "from sklearn.model_selection import GridSearchCV\n",
    "from timeit import default_timer as timer\n",
    "import pandas as pd\n",
    "\n",
    "# setar variáeis de ambiente para execução sequencial\n",
    "import os\n",
    "os.environ[\"MKL_NUM_THREADS\"] = \"1\"\n",
    "os.environ[\"OMP_NUM_THREADS\"] = \"1\""
   ]
  },
  {
   "cell_type": "markdown",
   "id": "1297cef5-6460-45cc-aa8a-c3bf356acd7c",
   "metadata": {},
   "source": [
    "# Carregando o conjunto de dados de Câncer de Mama"
   ]
  },
  {
   "cell_type": "code",
   "execution_count": 2,
   "id": "0833bba4-ca1a-4e20-81b1-2529c4bc0289",
   "metadata": {
    "tags": []
   },
   "outputs": [],
   "source": [
    "data = load_breast_cancer()\n",
    "X = data.data\n",
    "y = data.target\n",
    "\n",
    "# Dividindo o conjunto de dados em conjuntos de treinamento e teste\n",
    "X_train, X_test, y_train, y_test = train_test_split(X, y, test_size=0.2, random_state=42)"
   ]
  },
  {
   "cell_type": "markdown",
   "id": "96ac3897-5a9f-4b92-ae0e-a1b4304f564f",
   "metadata": {},
   "source": [
    "# Definindo o dicionário de hiperparâmetros "
   ]
  },
  {
   "cell_type": "code",
   "execution_count": 3,
   "id": "0ca1264f-2774-41d6-9ee3-ec0b5f0e6a74",
   "metadata": {
    "tags": []
   },
   "outputs": [],
   "source": [
    "param_grid = {\n",
    "    'C': [0.01, 0.1, 1, 10],          # Parâmetro de regularização\n",
    "    'kernel': ['linear', 'rbf'],  # Tipo de kernel\n",
    "    'gamma': [0.001, 0.01, 0.1]  # Coeficiente do kernel\n",
    "}"
   ]
  },
  {
   "cell_type": "markdown",
   "id": "054836c5-26e9-4e8e-9823-053f93b08cb1",
   "metadata": {},
   "source": [
    "## Treinamento sequencial\n",
    "\n",
    "Para restringir a utilização de somente um thread durante o processo de otimização, definimos o parâmetro `n_jobs = 1` da função `GridSearchCV`. \n",
    "\n",
    "De acordo com a documentação GrdiSearchCV:\n",
    "\n",
    "```\n",
    "n_jobsint, default=None - Número de trabalhos a serem executados em paralelo. \"None\" significa 1, a menos que esteja em um contexto de \"joblib.parallel_backend\". \"-1\" significa usar todos os processadores.\"\n",
    "```\n",
    "referência: [sklearn.model_selection.GridSearchCV](https://scikit-learn.org/stable/modules/generated/sklearn.model_selection.GridSearchCV.html)\n",
    "\n"
   ]
  },
  {
   "cell_type": "code",
   "execution_count": 4,
   "id": "3e5b6fed-8523-4d90-9bbd-da0953f5716f",
   "metadata": {
    "tags": []
   },
   "outputs": [
    {
     "name": "stdout",
     "output_type": "stream",
     "text": [
      "Melhores Parâmetros: {'C': 1, 'gamma': 0.001, 'kernel': 'linear'}\n",
      "Acurácia no Conjunto de Teste: 0.956140350877193\n",
      "Utilizando processamento em série o tempo de treinamento foi: 26.69\n"
     ]
    }
   ],
   "source": [
    "# Criando o classificador SVM\n",
    "svm = SVC()\n",
    "\n",
    "# Criando um objeto GridSearchCV com execução sequencial\n",
    "grid_search = GridSearchCV(svm, param_grid, cv=5, n_jobs=1)\n",
    "\n",
    "# Ajustando o GridSearchCV\n",
    "inicio = timer()\n",
    "grid_search.fit(X_train, y_train)\n",
    "fim = timer()\n",
    "tempo = fim - inicio\n",
    "\n",
    "# Obtendo os melhores parâmetros e estimador\n",
    "best_params = grid_search.best_params_\n",
    "best_estimator = grid_search.best_estimator_\n",
    "\n",
    "print(\"Melhores Parâmetros:\", best_params)\n",
    "\n",
    "# Avaliando o modelo no conjunto de teste\n",
    "acuracia = best_estimator.score(X_test, y_test)\n",
    "print(\"Acurácia no Conjunto de Teste:\", acuracia)\n",
    "print(f\"Utilizando processamento em série o tempo de treinamento foi: {tempo:.02f}\")\n"
   ]
  },
  {
   "cell_type": "markdown",
   "id": "bea61e5a-2385-48f8-8b98-a4bf395cafcd",
   "metadata": {
    "tags": []
   },
   "source": [
    "## Treinamento Paralelo\n",
    "\n",
    "Vamos definir o parametro `n_jobs` para o número máximo de threads disponíveis no ambiente. Utilizamos a função `cpu_count`, da biblioteca `multiprocessing`, para contar a quantidade de threads disponíveis."
   ]
  },
  {
   "cell_type": "code",
   "execution_count": 5,
   "id": "1590a54e-647e-4223-a425-a73ffe86b2ca",
   "metadata": {
    "tags": []
   },
   "outputs": [
    {
     "name": "stdout",
     "output_type": "stream",
     "text": [
      "24 thread(s) disponíveis\n"
     ]
    }
   ],
   "source": [
    "import multiprocessing as mp\n",
    "n_threads = 2 * mp.cpu_count()\n",
    "print(f\"{n_threads} thread(s) disponíveis\")"
   ]
  },
  {
   "cell_type": "markdown",
   "id": "35249d32-3ccf-4507-add1-0bd8ee1c80fc",
   "metadata": {},
   "source": [
    "Criamos a função a seguir para facilitar a execução do processo de treinamento o modelo com o conjunto de dados Câncer de Mama"
   ]
  },
  {
   "cell_type": "code",
   "execution_count": 6,
   "id": "a7b49558-bbf4-44e4-91a2-0ba2ee471762",
   "metadata": {
    "tags": []
   },
   "outputs": [],
   "source": [
    "def treinamento(n_jobs):\n",
    "    # Criando o classificador SVM\n",
    "    svm = SVC()\n",
    "\n",
    "    # Criando um objeto GridSearchCV com execução paralela\n",
    "    grid_search = GridSearchCV(svm, param_grid, cv=5, n_jobs=n_jobs)\n",
    "\n",
    "    # Ajustando o GridSearchCV\n",
    "    inicio = timer()\n",
    "    grid_search.fit(X_train, y_train)\n",
    "    fim = timer()\n",
    "    tempo = fim - inicio\n",
    "\n",
    "    # Obtendo os melhores parâmetros e estimador\n",
    "    best_params = grid_search.best_params_\n",
    "    best_estimator = grid_search.best_estimator_\n",
    "\n",
    "    print(\"Melhores Parâmetros:\", best_params)\n",
    "\n",
    "    # Avaliando o modelo no conjunto de teste\n",
    "    acuracia = best_estimator.score(X_test, y_test)\n",
    "    print(\"Acurácia no Conjunto de Teste:\", acuracia)\n",
    "    print(f\"Utilizando processamento com {n_jobs} thread(s) o tempo de treinamento foi: {tempo:.02f}\")\n",
    "    return tempo, acuracia\n"
   ]
  },
  {
   "cell_type": "code",
   "execution_count": 7,
   "id": "ba5488e8-ee78-4d6e-a1df-467d69df1e47",
   "metadata": {},
   "outputs": [
    {
     "name": "stdout",
     "output_type": "stream",
     "text": [
      "Melhores Parâmetros: {'C': 1, 'gamma': 0.001, 'kernel': 'linear'}\n",
      "Acurácia no Conjunto de Teste: 0.956140350877193\n",
      "Utilizando processamento com 24 thread(s) o tempo de treinamento foi: 4.79\n"
     ]
    }
   ],
   "source": [
    "tempo_paralelo, acuracia = treinamento(n_threads)"
   ]
  },
  {
   "cell_type": "code",
   "execution_count": 8,
   "id": "48fc5b03-04bd-47a2-8700-8408cfa0c91f",
   "metadata": {
    "tags": []
   },
   "outputs": [
    {
     "name": "stdout",
     "output_type": "stream",
     "text": [
      "Podemos observar que não houve impacto na acurácia calculada de 0.956140350877193.\n",
      "O tempo de treinamento do modelo, no entanto, foi impactado e percebemos uma diminuição no tempo de treinamento em paralelo, com 24 threads, em relação ao treinamento em série, de 26.69s para 4.79s respectivamente\n"
     ]
    }
   ],
   "source": [
    "print(f\"Podemos observar que não houve impacto na acurácia calculada de {acuracia}.\")\n",
    "print(f\"O tempo de treinamento do modelo, no entanto, foi impactado e percebemos uma diminuição no tempo de treinamento em paralelo, com {n_threads} threads, em relação ao treinamento em série, de {tempo:.02f}s para {tempo_paralelo:.02f}s respectivamente\")"
   ]
  },
  {
   "cell_type": "markdown",
   "id": "e730a698-b517-4696-98ff-7aef95d74353",
   "metadata": {},
   "source": [
    "## Calculando Aceleração e Eficiência\n",
    "\n",
    "Vamos agora repetir o treinamento para a quantidade de processos threads de 1 (execução que pode ser considerada sequencial) até a quantidade máxima de trabalhadores\n",
    "\n",
    "Vamos coletar os tempos de execução de cada execução e calcular a aceleração e eficiência. Os dados serão salvos em um arquivo CSV `experimento_grupo_g.csv` para que possamos analisá-los posteriormente."
   ]
  },
  {
   "cell_type": "code",
   "execution_count": 9,
   "id": "fca3950e-9872-464f-bdae-97f25e60ae53",
   "metadata": {
    "tags": []
   },
   "outputs": [
    {
     "name": "stdout",
     "output_type": "stream",
     "text": [
      "24 thread(s) disponíveis\n"
     ]
    }
   ],
   "source": [
    "import multiprocessing as mp\n",
    "\n",
    "n_threads = 2 * mp.cpu_count()\n",
    "\n",
    "print(f\"{n_threads} thread(s) disponíveis\")"
   ]
  },
  {
   "cell_type": "code",
   "execution_count": 10,
   "id": "9a6ebf2e-9839-49df-adde-f27e3b4dffc0",
   "metadata": {
    "tags": []
   },
   "outputs": [
    {
     "name": "stdout",
     "output_type": "stream",
     "text": [
      "Melhores Parâmetros: {'C': 1, 'gamma': 0.001, 'kernel': 'linear'}\n",
      "Acurácia no Conjunto de Teste: 0.956140350877193\n",
      "Utilizando processamento com 1 thread(s) o tempo de treinamento foi: 26.83\n",
      "Melhores Parâmetros: {'C': 1, 'gamma': 0.001, 'kernel': 'linear'}\n",
      "Acurácia no Conjunto de Teste: 0.956140350877193\n",
      "Utilizando processamento com 2 thread(s) o tempo de treinamento foi: 15.83\n",
      "Melhores Parâmetros: {'C': 1, 'gamma': 0.001, 'kernel': 'linear'}\n",
      "Acurácia no Conjunto de Teste: 0.956140350877193\n",
      "Utilizando processamento com 3 thread(s) o tempo de treinamento foi: 10.47\n",
      "Melhores Parâmetros: {'C': 1, 'gamma': 0.001, 'kernel': 'linear'}\n",
      "Acurácia no Conjunto de Teste: 0.956140350877193\n",
      "Utilizando processamento com 4 thread(s) o tempo de treinamento foi: 8.42\n",
      "Melhores Parâmetros: {'C': 1, 'gamma': 0.001, 'kernel': 'linear'}\n",
      "Acurácia no Conjunto de Teste: 0.956140350877193\n",
      "Utilizando processamento com 5 thread(s) o tempo de treinamento foi: 7.36\n",
      "Melhores Parâmetros: {'C': 1, 'gamma': 0.001, 'kernel': 'linear'}\n",
      "Acurácia no Conjunto de Teste: 0.956140350877193\n",
      "Utilizando processamento com 6 thread(s) o tempo de treinamento foi: 5.73\n",
      "Melhores Parâmetros: {'C': 1, 'gamma': 0.001, 'kernel': 'linear'}\n",
      "Acurácia no Conjunto de Teste: 0.956140350877193\n",
      "Utilizando processamento com 7 thread(s) o tempo de treinamento foi: 7.67\n",
      "Melhores Parâmetros: {'C': 1, 'gamma': 0.001, 'kernel': 'linear'}\n",
      "Acurácia no Conjunto de Teste: 0.956140350877193\n",
      "Utilizando processamento com 8 thread(s) o tempo de treinamento foi: 5.41\n",
      "Melhores Parâmetros: {'C': 1, 'gamma': 0.001, 'kernel': 'linear'}\n",
      "Acurácia no Conjunto de Teste: 0.956140350877193\n",
      "Utilizando processamento com 9 thread(s) o tempo de treinamento foi: 4.78\n",
      "Melhores Parâmetros: {'C': 1, 'gamma': 0.001, 'kernel': 'linear'}\n",
      "Acurácia no Conjunto de Teste: 0.956140350877193\n",
      "Utilizando processamento com 10 thread(s) o tempo de treinamento foi: 4.61\n",
      "Melhores Parâmetros: {'C': 1, 'gamma': 0.001, 'kernel': 'linear'}\n",
      "Acurácia no Conjunto de Teste: 0.956140350877193\n",
      "Utilizando processamento com 11 thread(s) o tempo de treinamento foi: 5.46\n",
      "Melhores Parâmetros: {'C': 1, 'gamma': 0.001, 'kernel': 'linear'}\n",
      "Acurácia no Conjunto de Teste: 0.956140350877193\n",
      "Utilizando processamento com 12 thread(s) o tempo de treinamento foi: 5.34\n",
      "Melhores Parâmetros: {'C': 1, 'gamma': 0.001, 'kernel': 'linear'}\n",
      "Acurácia no Conjunto de Teste: 0.956140350877193\n",
      "Utilizando processamento com 13 thread(s) o tempo de treinamento foi: 4.09\n",
      "Melhores Parâmetros: {'C': 1, 'gamma': 0.001, 'kernel': 'linear'}\n",
      "Acurácia no Conjunto de Teste: 0.956140350877193\n",
      "Utilizando processamento com 14 thread(s) o tempo de treinamento foi: 4.07\n",
      "Melhores Parâmetros: {'C': 1, 'gamma': 0.001, 'kernel': 'linear'}\n",
      "Acurácia no Conjunto de Teste: 0.956140350877193\n",
      "Utilizando processamento com 15 thread(s) o tempo de treinamento foi: 4.10\n",
      "Melhores Parâmetros: {'C': 1, 'gamma': 0.001, 'kernel': 'linear'}\n",
      "Acurácia no Conjunto de Teste: 0.956140350877193\n",
      "Utilizando processamento com 16 thread(s) o tempo de treinamento foi: 4.08\n",
      "Melhores Parâmetros: {'C': 1, 'gamma': 0.001, 'kernel': 'linear'}\n",
      "Acurácia no Conjunto de Teste: 0.956140350877193\n",
      "Utilizando processamento com 17 thread(s) o tempo de treinamento foi: 4.25\n",
      "Melhores Parâmetros: {'C': 1, 'gamma': 0.001, 'kernel': 'linear'}\n",
      "Acurácia no Conjunto de Teste: 0.956140350877193\n",
      "Utilizando processamento com 18 thread(s) o tempo de treinamento foi: 4.20\n",
      "Melhores Parâmetros: {'C': 1, 'gamma': 0.001, 'kernel': 'linear'}\n",
      "Acurácia no Conjunto de Teste: 0.956140350877193\n",
      "Utilizando processamento com 19 thread(s) o tempo de treinamento foi: 4.15\n",
      "Melhores Parâmetros: {'C': 1, 'gamma': 0.001, 'kernel': 'linear'}\n",
      "Acurácia no Conjunto de Teste: 0.956140350877193\n",
      "Utilizando processamento com 20 thread(s) o tempo de treinamento foi: 4.05\n",
      "Melhores Parâmetros: {'C': 1, 'gamma': 0.001, 'kernel': 'linear'}\n",
      "Acurácia no Conjunto de Teste: 0.956140350877193\n",
      "Utilizando processamento com 21 thread(s) o tempo de treinamento foi: 4.24\n",
      "Melhores Parâmetros: {'C': 1, 'gamma': 0.001, 'kernel': 'linear'}\n",
      "Acurácia no Conjunto de Teste: 0.956140350877193\n",
      "Utilizando processamento com 22 thread(s) o tempo de treinamento foi: 4.26\n",
      "Melhores Parâmetros: {'C': 1, 'gamma': 0.001, 'kernel': 'linear'}\n",
      "Acurácia no Conjunto de Teste: 0.956140350877193\n",
      "Utilizando processamento com 23 thread(s) o tempo de treinamento foi: 4.16\n",
      "Melhores Parâmetros: {'C': 1, 'gamma': 0.001, 'kernel': 'linear'}\n",
      "Acurácia no Conjunto de Teste: 0.956140350877193\n",
      "Utilizando processamento com 24 thread(s) o tempo de treinamento foi: 4.33\n"
     ]
    }
   ],
   "source": [
    "import csv\n",
    "csv_header = [\"p\", \"time\"]\n",
    "with open('../data/experimento_resultado.csv', 'w') as file:\n",
    "  writer = csv.writer(file)\n",
    "  writer.writerow([\"p\", \"tempo\"]) # o cabeçalho do CSV\n",
    "  for p in range(1, n_threads + 1):\n",
    "    # Vamos executar o experimento\n",
    "    tempo, acuracia = treinamento(p)\n",
    "    # Salvar no arquivo CSV a tupla\n",
    "    writer.writerow([p, tempo])\n",
    "\n"
   ]
  },
  {
   "cell_type": "markdown",
   "id": "bdf590da-5caf-4b77-9b40-5f3988472fa1",
   "metadata": {},
   "source": [
    "Conteúdo do arquivo com as medidas de desempenho"
   ]
  },
  {
   "cell_type": "code",
   "execution_count": 11,
   "id": "3f5e7526-4029-41c4-a601-a23141a1e47e",
   "metadata": {
    "tags": []
   },
   "outputs": [
    {
     "name": "stdout",
     "output_type": "stream",
     "text": [
      "     p      tempo\n",
      "0    1  26.830812\n",
      "1    2  15.830576\n",
      "2    3  10.465825\n",
      "3    4   8.422607\n",
      "4    5   7.358005\n",
      "5    6   5.726616\n",
      "6    7   7.674826\n",
      "7    8   5.413484\n",
      "8    9   4.781807\n",
      "9   10   4.614215\n",
      "10  11   5.461950\n",
      "11  12   5.339526\n",
      "12  13   4.090656\n",
      "13  14   4.065910\n",
      "14  15   4.096056\n",
      "15  16   4.076816\n",
      "16  17   4.248544\n",
      "17  18   4.204084\n",
      "18  19   4.147172\n",
      "19  20   4.049942\n",
      "20  21   4.237970\n",
      "21  22   4.262131\n",
      "22  23   4.160393\n",
      "23  24   4.330997\n"
     ]
    }
   ],
   "source": [
    "df_exp = pd.read_csv('../data/experimento_resultado.csv')\n",
    "print(df_exp.to_string())"
   ]
  },
  {
   "cell_type": "code",
   "execution_count": 12,
   "id": "39151066-df1b-4b59-b8ab-e122c97abd34",
   "metadata": {
    "tags": []
   },
   "outputs": [
    {
     "data": {
      "text/html": [
       "<div>\n",
       "<style scoped>\n",
       "    .dataframe tbody tr th:only-of-type {\n",
       "        vertical-align: middle;\n",
       "    }\n",
       "\n",
       "    .dataframe tbody tr th {\n",
       "        vertical-align: top;\n",
       "    }\n",
       "\n",
       "    .dataframe thead th {\n",
       "        text-align: right;\n",
       "    }\n",
       "</style>\n",
       "<table border=\"1\" class=\"dataframe\">\n",
       "  <thead>\n",
       "    <tr style=\"text-align: right;\">\n",
       "      <th></th>\n",
       "      <th>p</th>\n",
       "      <th>tempo</th>\n",
       "      <th>seq</th>\n",
       "      <th>speedup</th>\n",
       "      <th>eficiencia</th>\n",
       "    </tr>\n",
       "  </thead>\n",
       "  <tbody>\n",
       "    <tr>\n",
       "      <th>0</th>\n",
       "      <td>1</td>\n",
       "      <td>26.830812</td>\n",
       "      <td>26.830812</td>\n",
       "      <td>1.000000</td>\n",
       "      <td>1.000000</td>\n",
       "    </tr>\n",
       "    <tr>\n",
       "      <th>1</th>\n",
       "      <td>2</td>\n",
       "      <td>15.830576</td>\n",
       "      <td>26.830812</td>\n",
       "      <td>1.694873</td>\n",
       "      <td>0.847436</td>\n",
       "    </tr>\n",
       "    <tr>\n",
       "      <th>2</th>\n",
       "      <td>3</td>\n",
       "      <td>10.465825</td>\n",
       "      <td>26.830812</td>\n",
       "      <td>2.563660</td>\n",
       "      <td>0.854553</td>\n",
       "    </tr>\n",
       "    <tr>\n",
       "      <th>3</th>\n",
       "      <td>4</td>\n",
       "      <td>8.422607</td>\n",
       "      <td>26.830812</td>\n",
       "      <td>3.185571</td>\n",
       "      <td>0.796393</td>\n",
       "    </tr>\n",
       "    <tr>\n",
       "      <th>4</th>\n",
       "      <td>5</td>\n",
       "      <td>7.358005</td>\n",
       "      <td>26.830812</td>\n",
       "      <td>3.646479</td>\n",
       "      <td>0.729296</td>\n",
       "    </tr>\n",
       "    <tr>\n",
       "      <th>5</th>\n",
       "      <td>6</td>\n",
       "      <td>5.726616</td>\n",
       "      <td>26.830812</td>\n",
       "      <td>4.685282</td>\n",
       "      <td>0.780880</td>\n",
       "    </tr>\n",
       "    <tr>\n",
       "      <th>6</th>\n",
       "      <td>7</td>\n",
       "      <td>7.674826</td>\n",
       "      <td>26.830812</td>\n",
       "      <td>3.495951</td>\n",
       "      <td>0.499422</td>\n",
       "    </tr>\n",
       "    <tr>\n",
       "      <th>7</th>\n",
       "      <td>8</td>\n",
       "      <td>5.413484</td>\n",
       "      <td>26.830812</td>\n",
       "      <td>4.956292</td>\n",
       "      <td>0.619537</td>\n",
       "    </tr>\n",
       "    <tr>\n",
       "      <th>8</th>\n",
       "      <td>9</td>\n",
       "      <td>4.781807</td>\n",
       "      <td>26.830812</td>\n",
       "      <td>5.611019</td>\n",
       "      <td>0.623447</td>\n",
       "    </tr>\n",
       "    <tr>\n",
       "      <th>9</th>\n",
       "      <td>10</td>\n",
       "      <td>4.614215</td>\n",
       "      <td>26.830812</td>\n",
       "      <td>5.814816</td>\n",
       "      <td>0.581482</td>\n",
       "    </tr>\n",
       "    <tr>\n",
       "      <th>10</th>\n",
       "      <td>11</td>\n",
       "      <td>5.461950</td>\n",
       "      <td>26.830812</td>\n",
       "      <td>4.912313</td>\n",
       "      <td>0.446574</td>\n",
       "    </tr>\n",
       "    <tr>\n",
       "      <th>11</th>\n",
       "      <td>12</td>\n",
       "      <td>5.339526</td>\n",
       "      <td>26.830812</td>\n",
       "      <td>5.024943</td>\n",
       "      <td>0.418745</td>\n",
       "    </tr>\n",
       "    <tr>\n",
       "      <th>12</th>\n",
       "      <td>13</td>\n",
       "      <td>4.090656</td>\n",
       "      <td>26.830812</td>\n",
       "      <td>6.559049</td>\n",
       "      <td>0.504542</td>\n",
       "    </tr>\n",
       "    <tr>\n",
       "      <th>13</th>\n",
       "      <td>14</td>\n",
       "      <td>4.065910</td>\n",
       "      <td>26.830812</td>\n",
       "      <td>6.598969</td>\n",
       "      <td>0.471355</td>\n",
       "    </tr>\n",
       "    <tr>\n",
       "      <th>14</th>\n",
       "      <td>15</td>\n",
       "      <td>4.096056</td>\n",
       "      <td>26.830812</td>\n",
       "      <td>6.550402</td>\n",
       "      <td>0.436693</td>\n",
       "    </tr>\n",
       "    <tr>\n",
       "      <th>15</th>\n",
       "      <td>16</td>\n",
       "      <td>4.076816</td>\n",
       "      <td>26.830812</td>\n",
       "      <td>6.581315</td>\n",
       "      <td>0.411332</td>\n",
       "    </tr>\n",
       "    <tr>\n",
       "      <th>16</th>\n",
       "      <td>17</td>\n",
       "      <td>4.248544</td>\n",
       "      <td>26.830812</td>\n",
       "      <td>6.315296</td>\n",
       "      <td>0.371488</td>\n",
       "    </tr>\n",
       "    <tr>\n",
       "      <th>17</th>\n",
       "      <td>18</td>\n",
       "      <td>4.204084</td>\n",
       "      <td>26.830812</td>\n",
       "      <td>6.382082</td>\n",
       "      <td>0.354560</td>\n",
       "    </tr>\n",
       "    <tr>\n",
       "      <th>18</th>\n",
       "      <td>19</td>\n",
       "      <td>4.147172</td>\n",
       "      <td>26.830812</td>\n",
       "      <td>6.469665</td>\n",
       "      <td>0.340509</td>\n",
       "    </tr>\n",
       "    <tr>\n",
       "      <th>19</th>\n",
       "      <td>20</td>\n",
       "      <td>4.049942</td>\n",
       "      <td>26.830812</td>\n",
       "      <td>6.624987</td>\n",
       "      <td>0.331249</td>\n",
       "    </tr>\n",
       "    <tr>\n",
       "      <th>20</th>\n",
       "      <td>21</td>\n",
       "      <td>4.237970</td>\n",
       "      <td>26.830812</td>\n",
       "      <td>6.331053</td>\n",
       "      <td>0.301479</td>\n",
       "    </tr>\n",
       "    <tr>\n",
       "      <th>21</th>\n",
       "      <td>22</td>\n",
       "      <td>4.262131</td>\n",
       "      <td>26.830812</td>\n",
       "      <td>6.295164</td>\n",
       "      <td>0.286144</td>\n",
       "    </tr>\n",
       "    <tr>\n",
       "      <th>22</th>\n",
       "      <td>23</td>\n",
       "      <td>4.160393</td>\n",
       "      <td>26.830812</td>\n",
       "      <td>6.449106</td>\n",
       "      <td>0.280396</td>\n",
       "    </tr>\n",
       "    <tr>\n",
       "      <th>23</th>\n",
       "      <td>24</td>\n",
       "      <td>4.330997</td>\n",
       "      <td>26.830812</td>\n",
       "      <td>6.195065</td>\n",
       "      <td>0.258128</td>\n",
       "    </tr>\n",
       "  </tbody>\n",
       "</table>\n",
       "</div>"
      ],
      "text/plain": [
       "     p      tempo        seq   speedup  eficiencia\n",
       "0    1  26.830812  26.830812  1.000000    1.000000\n",
       "1    2  15.830576  26.830812  1.694873    0.847436\n",
       "2    3  10.465825  26.830812  2.563660    0.854553\n",
       "3    4   8.422607  26.830812  3.185571    0.796393\n",
       "4    5   7.358005  26.830812  3.646479    0.729296\n",
       "5    6   5.726616  26.830812  4.685282    0.780880\n",
       "6    7   7.674826  26.830812  3.495951    0.499422\n",
       "7    8   5.413484  26.830812  4.956292    0.619537\n",
       "8    9   4.781807  26.830812  5.611019    0.623447\n",
       "9   10   4.614215  26.830812  5.814816    0.581482\n",
       "10  11   5.461950  26.830812  4.912313    0.446574\n",
       "11  12   5.339526  26.830812  5.024943    0.418745\n",
       "12  13   4.090656  26.830812  6.559049    0.504542\n",
       "13  14   4.065910  26.830812  6.598969    0.471355\n",
       "14  15   4.096056  26.830812  6.550402    0.436693\n",
       "15  16   4.076816  26.830812  6.581315    0.411332\n",
       "16  17   4.248544  26.830812  6.315296    0.371488\n",
       "17  18   4.204084  26.830812  6.382082    0.354560\n",
       "18  19   4.147172  26.830812  6.469665    0.340509\n",
       "19  20   4.049942  26.830812  6.624987    0.331249\n",
       "20  21   4.237970  26.830812  6.331053    0.301479\n",
       "21  22   4.262131  26.830812  6.295164    0.286144\n",
       "22  23   4.160393  26.830812  6.449106    0.280396\n",
       "23  24   4.330997  26.830812  6.195065    0.258128"
      ]
     },
     "execution_count": 12,
     "metadata": {},
     "output_type": "execute_result"
    }
   ],
   "source": [
    "tseq = df_exp.query('p == 1')['tempo'].iloc[0]\n",
    "tseq\n",
    "df_exp = df_exp.assign(seq = tseq)\n",
    "df_exp = df_exp.assign(speedup = df_exp['seq']/df_exp['tempo'])\n",
    "df_exp = df_exp.assign(eficiencia = df_exp['speedup']/df_exp['p'])\n",
    "df_exp"
   ]
  },
  {
   "cell_type": "markdown",
   "id": "4d2d51f6-ee68-42dc-bd1a-f2806b1d0cec",
   "metadata": {},
   "source": [
    "Gerando os gráficos ilustrativos"
   ]
  },
  {
   "cell_type": "code",
   "execution_count": 13,
   "id": "2a334c8a-8093-4d9f-9137-323081f7365e",
   "metadata": {
    "tags": []
   },
   "outputs": [
    {
     "data": {
      "image/png": "[encoded data removed]",
      "text/plain": [
       "<Figure size 1000x500 with 2 Axes>"
      ]
     },
     "metadata": {},
     "output_type": "display_data"
    }
   ],
   "source": [
    "import matplotlib.pyplot as plt\n",
    "\n",
    "plt.figure(figsize=(10, 5))\n",
    "\n",
    "# Primeiro gráfico\n",
    "plt.subplot(1, 2, 1)\n",
    "plt.scatter(df_exp['p'], df_exp['speedup'])\n",
    "\n",
    "indice_maior_speedup = df_exp['speedup'].idxmax()\n",
    "\n",
    "plt.scatter(df_exp['p'][indice_maior_speedup], df_exp['speedup'][indice_maior_speedup], s=100, c='red', edgecolors='black')\n",
    "plt.axvline(x=indice_maior_speedup+1, c=\"black\")\n",
    "plt.plot(df_exp['p'], df_exp['speedup'])\n",
    "plt.axis('equal')\n",
    "plt.ylabel('speedup')\n",
    "plt.xlabel('p')\n",
    "plt.title(\"Aceleração(Speedup) x Num. de Processos (p)\")\n",
    "\n",
    "# Segundo gráfico\n",
    "plt.subplot(1, 2, 2)  # Subplot da direita\n",
    "plt.scatter(df_exp['p'], df_exp['tempo'])\n",
    "\n",
    "# Encontrar o índice do ponto com o maior valor de y\n",
    "indice_menor_tempo = df_exp['tempo'].idxmin()\n",
    "\n",
    "# Plote um círculo vermelho ao redor do ponto com o maior valor de y\n",
    "plt.scatter(df_exp['p'][indice_menor_tempo], df_exp['tempo'][indice_menor_tempo], s=100, c='red', edgecolors='black')\n",
    "plt.axvline(x=indice_menor_tempo+1, c=\"black\")\n",
    "plt.plot(df_exp['p'], df_exp['tempo'])\n",
    "plt.axis('equal')\n",
    "plt.ylabel('tempo')\n",
    "plt.xlabel('p')\n",
    "plt.title(\"Tempo(s) x Num. de Processos (p)\")\n",
    "\n",
    "# Ajuste o layout da figura\n",
    "plt.tight_layout()\n",
    "\n",
    "plt.show()"
   ]
  },
  {
   "cell_type": "markdown",
   "id": "1a6879a5-6ed8-45da-8816-4fafe475d1f3",
   "metadata": {},
   "source": [
    "Analisamos o impacto da variação no número de processos em relação ao desempenho no treinamento de um modelo de classificação baseado na base de dados `Breast Cancer`. Os resultados revelaram um aumento inicial no Aceleração à medida que o número de processos aumentou, indicando uma melhoria no desempenho. No entanto, a partir de 20 processos, a aceleração diminuiu, sugerindo uma escalabilidade limitada. Ao mesmo tempo, o tempo de execução inicialmente diminuiu à medida que mais processos foram alocados, mas, a partir de 20 processos,começou a aumentar. É possível que isto ocorra em razão de overhead de comunicação e ineficiências na paralelização, limitando os ganhos possíveis com paralelização para o processo de treinamento do modelo de classificação utilizado, conforme preconiza a lei de Amhdal."
   ]
  },
  {
   "cell_type": "code",
   "execution_count": null,
   "id": "f1071e98-0f8f-468f-ba27-0203e2f1f5ee",
   "metadata": {},
   "outputs": [],
   "source": []
  }
 ],
 "metadata": {
  "kernelspec": {
   "display_name": "Python 3 (ipykernel)",
   "language": "python",
   "name": "python3"
  },
  "language_info": {
   "codemirror_mode": {
    "name": "ipython",
    "version": 3
   },
   "file_extension": ".py",
   "mimetype": "text/x-python",
   "name": "python",
   "nbconvert_exporter": "python",
   "pygments_lexer": "ipython3",
   "version": "3.11.5"
  }
 },
 "nbformat": 4,
 "nbformat_minor": 5
}
